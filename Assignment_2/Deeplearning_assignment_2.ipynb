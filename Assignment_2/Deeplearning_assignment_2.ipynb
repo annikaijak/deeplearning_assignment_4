{
  "nbformat": 4,
  "nbformat_minor": 0,
  "metadata": {
    "colab": {
      "provenance": []
    },
    "kernelspec": {
      "name": "python3",
      "display_name": "Python 3"
    },
    "language_info": {
      "name": "python"
    }
  },
  "cells": [
    {
      "cell_type": "markdown",
      "source": [
        "# **Deep Learning Assignment 2**\n",
        "\n",
        "## **Part one:** Bible verse search engine - use your favorite inspiriational quotes to find the best suiting bible verse!\n",
        "\n",
        "## **Part two:** Gradient Descent Exercise and Attention Mechanism Exercise\n",
        "\n",
        "##### *Made by Mikkel and Annika*"
      ],
      "metadata": {
        "id": "sbye60Ntfa1C"
      }
    },
    {
      "cell_type": "markdown",
      "source": [
        "# **Introduction**\n",
        "\n",
        "This exercise is designed to deepen your understanding and skills in modern deep learning techniques. We have two main tasks for you. The first is focused on using SBERT for semantic search, and the second involves hands-on exercises with gradient descent and the attention mechanism.\n",
        "\n"
      ],
      "metadata": {
        "id": "lbJZR24NUEoa"
      }
    },
    {
      "cell_type": "markdown",
      "source": [
        "#Data\n",
        "\n",
        "You may utilize datasets from 🤗 Hugging Face, Kaggle, or create your own.\n",
        "For inspiration, refer to the GIF search engine ( https://www.pinecone.io/learn/gif-search/ ) and YouTube search projects ( https://www.pinecone.io/learn/youtube-search/ ).\n",
        "\n",
        "#Delivery\n",
        "\n",
        "* Create a dedicated GitHub repository for this assignment.\n",
        "\n",
        "* Store all relevant materials, including the Colab notebook, in the repository.\n",
        "\n",
        "* Provide a README.md file with a concise description of the assignment and its components.\n",
        "\n",
        "* You may work individually or in groups of up to three members.\n",
        "\n",
        "* Submit your work by emailing a link to the repository to Hamid (hamidb@business.aau.dk)."
      ],
      "metadata": {
        "id": "T_maxNrIU2mL"
      }
    },
    {
      "cell_type": "code",
      "source": [
        "!pip install sentence-transformers\n",
        "!pip install transformers matplotlib\n"
      ],
      "metadata": {
        "colab": {
          "base_uri": "https://localhost:8080/"
        },
        "id": "KPx90qjywIzW",
        "outputId": "9ae2a076-ee3b-4128-b101-bedf5a9cbe78"
      },
      "execution_count": 1,
      "outputs": [
        {
          "output_type": "stream",
          "name": "stdout",
          "text": [
            "Requirement already satisfied: sentence-transformers in /usr/local/lib/python3.10/dist-packages (2.3.1)\n",
            "Requirement already satisfied: transformers<5.0.0,>=4.32.0 in /usr/local/lib/python3.10/dist-packages (from sentence-transformers) (4.35.2)\n",
            "Requirement already satisfied: tqdm in /usr/local/lib/python3.10/dist-packages (from sentence-transformers) (4.66.1)\n",
            "Requirement already satisfied: torch>=1.11.0 in /usr/local/lib/python3.10/dist-packages (from sentence-transformers) (2.1.0+cu121)\n",
            "Requirement already satisfied: numpy in /usr/local/lib/python3.10/dist-packages (from sentence-transformers) (1.23.5)\n",
            "Requirement already satisfied: scikit-learn in /usr/local/lib/python3.10/dist-packages (from sentence-transformers) (1.2.2)\n",
            "Requirement already satisfied: scipy in /usr/local/lib/python3.10/dist-packages (from sentence-transformers) (1.11.4)\n",
            "Requirement already satisfied: nltk in /usr/local/lib/python3.10/dist-packages (from sentence-transformers) (3.8.1)\n",
            "Requirement already satisfied: sentencepiece in /usr/local/lib/python3.10/dist-packages (from sentence-transformers) (0.1.99)\n",
            "Requirement already satisfied: huggingface-hub>=0.15.1 in /usr/local/lib/python3.10/dist-packages (from sentence-transformers) (0.20.3)\n",
            "Requirement already satisfied: Pillow in /usr/local/lib/python3.10/dist-packages (from sentence-transformers) (9.4.0)\n",
            "Requirement already satisfied: filelock in /usr/local/lib/python3.10/dist-packages (from huggingface-hub>=0.15.1->sentence-transformers) (3.13.1)\n",
            "Requirement already satisfied: fsspec>=2023.5.0 in /usr/local/lib/python3.10/dist-packages (from huggingface-hub>=0.15.1->sentence-transformers) (2023.6.0)\n",
            "Requirement already satisfied: requests in /usr/local/lib/python3.10/dist-packages (from huggingface-hub>=0.15.1->sentence-transformers) (2.31.0)\n",
            "Requirement already satisfied: pyyaml>=5.1 in /usr/local/lib/python3.10/dist-packages (from huggingface-hub>=0.15.1->sentence-transformers) (6.0.1)\n",
            "Requirement already satisfied: typing-extensions>=3.7.4.3 in /usr/local/lib/python3.10/dist-packages (from huggingface-hub>=0.15.1->sentence-transformers) (4.9.0)\n",
            "Requirement already satisfied: packaging>=20.9 in /usr/local/lib/python3.10/dist-packages (from huggingface-hub>=0.15.1->sentence-transformers) (23.2)\n",
            "Requirement already satisfied: sympy in /usr/local/lib/python3.10/dist-packages (from torch>=1.11.0->sentence-transformers) (1.12)\n",
            "Requirement already satisfied: networkx in /usr/local/lib/python3.10/dist-packages (from torch>=1.11.0->sentence-transformers) (3.2.1)\n",
            "Requirement already satisfied: jinja2 in /usr/local/lib/python3.10/dist-packages (from torch>=1.11.0->sentence-transformers) (3.1.3)\n",
            "Requirement already satisfied: triton==2.1.0 in /usr/local/lib/python3.10/dist-packages (from torch>=1.11.0->sentence-transformers) (2.1.0)\n",
            "Requirement already satisfied: regex!=2019.12.17 in /usr/local/lib/python3.10/dist-packages (from transformers<5.0.0,>=4.32.0->sentence-transformers) (2023.12.25)\n",
            "Requirement already satisfied: tokenizers<0.19,>=0.14 in /usr/local/lib/python3.10/dist-packages (from transformers<5.0.0,>=4.32.0->sentence-transformers) (0.15.1)\n",
            "Requirement already satisfied: safetensors>=0.3.1 in /usr/local/lib/python3.10/dist-packages (from transformers<5.0.0,>=4.32.0->sentence-transformers) (0.4.2)\n",
            "Requirement already satisfied: click in /usr/local/lib/python3.10/dist-packages (from nltk->sentence-transformers) (8.1.7)\n",
            "Requirement already satisfied: joblib in /usr/local/lib/python3.10/dist-packages (from nltk->sentence-transformers) (1.3.2)\n",
            "Requirement already satisfied: threadpoolctl>=2.0.0 in /usr/local/lib/python3.10/dist-packages (from scikit-learn->sentence-transformers) (3.2.0)\n",
            "Requirement already satisfied: MarkupSafe>=2.0 in /usr/local/lib/python3.10/dist-packages (from jinja2->torch>=1.11.0->sentence-transformers) (2.1.5)\n",
            "Requirement already satisfied: charset-normalizer<4,>=2 in /usr/local/lib/python3.10/dist-packages (from requests->huggingface-hub>=0.15.1->sentence-transformers) (3.3.2)\n",
            "Requirement already satisfied: idna<4,>=2.5 in /usr/local/lib/python3.10/dist-packages (from requests->huggingface-hub>=0.15.1->sentence-transformers) (3.6)\n",
            "Requirement already satisfied: urllib3<3,>=1.21.1 in /usr/local/lib/python3.10/dist-packages (from requests->huggingface-hub>=0.15.1->sentence-transformers) (2.0.7)\n",
            "Requirement already satisfied: certifi>=2017.4.17 in /usr/local/lib/python3.10/dist-packages (from requests->huggingface-hub>=0.15.1->sentence-transformers) (2024.2.2)\n",
            "Requirement already satisfied: mpmath>=0.19 in /usr/local/lib/python3.10/dist-packages (from sympy->torch>=1.11.0->sentence-transformers) (1.3.0)\n",
            "Requirement already satisfied: transformers in /usr/local/lib/python3.10/dist-packages (4.35.2)\n",
            "Requirement already satisfied: matplotlib in /usr/local/lib/python3.10/dist-packages (3.7.1)\n",
            "Requirement already satisfied: filelock in /usr/local/lib/python3.10/dist-packages (from transformers) (3.13.1)\n",
            "Requirement already satisfied: huggingface-hub<1.0,>=0.16.4 in /usr/local/lib/python3.10/dist-packages (from transformers) (0.20.3)\n",
            "Requirement already satisfied: numpy>=1.17 in /usr/local/lib/python3.10/dist-packages (from transformers) (1.23.5)\n",
            "Requirement already satisfied: packaging>=20.0 in /usr/local/lib/python3.10/dist-packages (from transformers) (23.2)\n",
            "Requirement already satisfied: pyyaml>=5.1 in /usr/local/lib/python3.10/dist-packages (from transformers) (6.0.1)\n",
            "Requirement already satisfied: regex!=2019.12.17 in /usr/local/lib/python3.10/dist-packages (from transformers) (2023.12.25)\n",
            "Requirement already satisfied: requests in /usr/local/lib/python3.10/dist-packages (from transformers) (2.31.0)\n",
            "Requirement already satisfied: tokenizers<0.19,>=0.14 in /usr/local/lib/python3.10/dist-packages (from transformers) (0.15.1)\n",
            "Requirement already satisfied: safetensors>=0.3.1 in /usr/local/lib/python3.10/dist-packages (from transformers) (0.4.2)\n",
            "Requirement already satisfied: tqdm>=4.27 in /usr/local/lib/python3.10/dist-packages (from transformers) (4.66.1)\n",
            "Requirement already satisfied: contourpy>=1.0.1 in /usr/local/lib/python3.10/dist-packages (from matplotlib) (1.2.0)\n",
            "Requirement already satisfied: cycler>=0.10 in /usr/local/lib/python3.10/dist-packages (from matplotlib) (0.12.1)\n",
            "Requirement already satisfied: fonttools>=4.22.0 in /usr/local/lib/python3.10/dist-packages (from matplotlib) (4.48.1)\n",
            "Requirement already satisfied: kiwisolver>=1.0.1 in /usr/local/lib/python3.10/dist-packages (from matplotlib) (1.4.5)\n",
            "Requirement already satisfied: pillow>=6.2.0 in /usr/local/lib/python3.10/dist-packages (from matplotlib) (9.4.0)\n",
            "Requirement already satisfied: pyparsing>=2.3.1 in /usr/local/lib/python3.10/dist-packages (from matplotlib) (3.1.1)\n",
            "Requirement already satisfied: python-dateutil>=2.7 in /usr/local/lib/python3.10/dist-packages (from matplotlib) (2.8.2)\n",
            "Requirement already satisfied: fsspec>=2023.5.0 in /usr/local/lib/python3.10/dist-packages (from huggingface-hub<1.0,>=0.16.4->transformers) (2023.6.0)\n",
            "Requirement already satisfied: typing-extensions>=3.7.4.3 in /usr/local/lib/python3.10/dist-packages (from huggingface-hub<1.0,>=0.16.4->transformers) (4.9.0)\n",
            "Requirement already satisfied: six>=1.5 in /usr/local/lib/python3.10/dist-packages (from python-dateutil>=2.7->matplotlib) (1.16.0)\n",
            "Requirement already satisfied: charset-normalizer<4,>=2 in /usr/local/lib/python3.10/dist-packages (from requests->transformers) (3.3.2)\n",
            "Requirement already satisfied: idna<4,>=2.5 in /usr/local/lib/python3.10/dist-packages (from requests->transformers) (3.6)\n",
            "Requirement already satisfied: urllib3<3,>=1.21.1 in /usr/local/lib/python3.10/dist-packages (from requests->transformers) (2.0.7)\n",
            "Requirement already satisfied: certifi>=2017.4.17 in /usr/local/lib/python3.10/dist-packages (from requests->transformers) (2024.2.2)\n"
          ]
        }
      ]
    },
    {
      "cell_type": "code",
      "source": [
        "# Importing required libraries\n",
        "import pandas as pd\n",
        "import numpy as np\n",
        "import matplotlib.pyplot as plt\n",
        "import seaborn as sns\n",
        "\n",
        "from tqdm.notebook import tqdm # to add progress bars\n",
        "from sentence_transformers import SentenceTransformer\n"
      ],
      "metadata": {
        "id": "SFvQB8jivdeN"
      },
      "execution_count": 2,
      "outputs": []
    },
    {
      "cell_type": "markdown",
      "source": [
        "# **Part 1: SBERT and Semantic Search**\n",
        "\n",
        "##Task Description:\n",
        "\n",
        "Create something innovative using SBERT and semantic search, or even more! The guidelines are intentionally broad to encourage creativity. Here are some ideas to get you started:\n",
        "\n",
        "* Implement a GIF search engine or YouTube search function using images and CLIP.\n",
        "* (Optional) Use SetFit for supervised tasks with SBERT models.\n",
        "* Consider building a search engine using a Gradio or Streamlit app."
      ],
      "metadata": {
        "id": "iikuuM77UWrp"
      }
    },
    {
      "cell_type": "markdown",
      "source": [
        "## Loading dataset"
      ],
      "metadata": {
        "id": "k1QNpFUGwSqH"
      }
    },
    {
      "cell_type": "code",
      "execution_count": 3,
      "metadata": {
        "id": "NPbVkdEnUD7m"
      },
      "outputs": [],
      "source": [
        "# Loading the data from github repository\n",
        "df = pd.read_csv('https://github.com/MikkelONielsen/deeplearning_assignment_2/raw/main/t_bbe.csv')"
      ]
    },
    {
      "cell_type": "code",
      "source": [
        "df.head()"
      ],
      "metadata": {
        "id": "hfFVJUpfvgrq",
        "outputId": "719a2a2e-db55-4343-c4a1-365b6aab523f",
        "colab": {
          "base_uri": "https://localhost:8080/",
          "height": 206
        }
      },
      "execution_count": 4,
      "outputs": [
        {
          "output_type": "execute_result",
          "data": {
            "text/plain": [
              "        id  b  c  v                                                  t\n",
              "0  1001001  1  1  1    At the first God made the heaven and the earth.\n",
              "1  1001002  1  1  2  And the earth was waste and without form; and ...\n",
              "2  1001003  1  1  3  And God said, Let there be light: and there wa...\n",
              "3  1001004  1  1  4  And God, looking on the light, saw that it was...\n",
              "4  1001005  1  1  5  Naming the light, Day, and the dark, Night. An..."
            ],
            "text/html": [
              "\n",
              "  <div id=\"df-dc9d35f4-1a33-4619-98bd-7312422a0552\" class=\"colab-df-container\">\n",
              "    <div>\n",
              "<style scoped>\n",
              "    .dataframe tbody tr th:only-of-type {\n",
              "        vertical-align: middle;\n",
              "    }\n",
              "\n",
              "    .dataframe tbody tr th {\n",
              "        vertical-align: top;\n",
              "    }\n",
              "\n",
              "    .dataframe thead th {\n",
              "        text-align: right;\n",
              "    }\n",
              "</style>\n",
              "<table border=\"1\" class=\"dataframe\">\n",
              "  <thead>\n",
              "    <tr style=\"text-align: right;\">\n",
              "      <th></th>\n",
              "      <th>id</th>\n",
              "      <th>b</th>\n",
              "      <th>c</th>\n",
              "      <th>v</th>\n",
              "      <th>t</th>\n",
              "    </tr>\n",
              "  </thead>\n",
              "  <tbody>\n",
              "    <tr>\n",
              "      <th>0</th>\n",
              "      <td>1001001</td>\n",
              "      <td>1</td>\n",
              "      <td>1</td>\n",
              "      <td>1</td>\n",
              "      <td>At the first God made the heaven and the earth.</td>\n",
              "    </tr>\n",
              "    <tr>\n",
              "      <th>1</th>\n",
              "      <td>1001002</td>\n",
              "      <td>1</td>\n",
              "      <td>1</td>\n",
              "      <td>2</td>\n",
              "      <td>And the earth was waste and without form; and ...</td>\n",
              "    </tr>\n",
              "    <tr>\n",
              "      <th>2</th>\n",
              "      <td>1001003</td>\n",
              "      <td>1</td>\n",
              "      <td>1</td>\n",
              "      <td>3</td>\n",
              "      <td>And God said, Let there be light: and there wa...</td>\n",
              "    </tr>\n",
              "    <tr>\n",
              "      <th>3</th>\n",
              "      <td>1001004</td>\n",
              "      <td>1</td>\n",
              "      <td>1</td>\n",
              "      <td>4</td>\n",
              "      <td>And God, looking on the light, saw that it was...</td>\n",
              "    </tr>\n",
              "    <tr>\n",
              "      <th>4</th>\n",
              "      <td>1001005</td>\n",
              "      <td>1</td>\n",
              "      <td>1</td>\n",
              "      <td>5</td>\n",
              "      <td>Naming the light, Day, and the dark, Night. An...</td>\n",
              "    </tr>\n",
              "  </tbody>\n",
              "</table>\n",
              "</div>\n",
              "    <div class=\"colab-df-buttons\">\n",
              "\n",
              "  <div class=\"colab-df-container\">\n",
              "    <button class=\"colab-df-convert\" onclick=\"convertToInteractive('df-dc9d35f4-1a33-4619-98bd-7312422a0552')\"\n",
              "            title=\"Convert this dataframe to an interactive table.\"\n",
              "            style=\"display:none;\">\n",
              "\n",
              "  <svg xmlns=\"http://www.w3.org/2000/svg\" height=\"24px\" viewBox=\"0 -960 960 960\">\n",
              "    <path d=\"M120-120v-720h720v720H120Zm60-500h600v-160H180v160Zm220 220h160v-160H400v160Zm0 220h160v-160H400v160ZM180-400h160v-160H180v160Zm440 0h160v-160H620v160ZM180-180h160v-160H180v160Zm440 0h160v-160H620v160Z\"/>\n",
              "  </svg>\n",
              "    </button>\n",
              "\n",
              "  <style>\n",
              "    .colab-df-container {\n",
              "      display:flex;\n",
              "      gap: 12px;\n",
              "    }\n",
              "\n",
              "    .colab-df-convert {\n",
              "      background-color: #E8F0FE;\n",
              "      border: none;\n",
              "      border-radius: 50%;\n",
              "      cursor: pointer;\n",
              "      display: none;\n",
              "      fill: #1967D2;\n",
              "      height: 32px;\n",
              "      padding: 0 0 0 0;\n",
              "      width: 32px;\n",
              "    }\n",
              "\n",
              "    .colab-df-convert:hover {\n",
              "      background-color: #E2EBFA;\n",
              "      box-shadow: 0px 1px 2px rgba(60, 64, 67, 0.3), 0px 1px 3px 1px rgba(60, 64, 67, 0.15);\n",
              "      fill: #174EA6;\n",
              "    }\n",
              "\n",
              "    .colab-df-buttons div {\n",
              "      margin-bottom: 4px;\n",
              "    }\n",
              "\n",
              "    [theme=dark] .colab-df-convert {\n",
              "      background-color: #3B4455;\n",
              "      fill: #D2E3FC;\n",
              "    }\n",
              "\n",
              "    [theme=dark] .colab-df-convert:hover {\n",
              "      background-color: #434B5C;\n",
              "      box-shadow: 0px 1px 3px 1px rgba(0, 0, 0, 0.15);\n",
              "      filter: drop-shadow(0px 1px 2px rgba(0, 0, 0, 0.3));\n",
              "      fill: #FFFFFF;\n",
              "    }\n",
              "  </style>\n",
              "\n",
              "    <script>\n",
              "      const buttonEl =\n",
              "        document.querySelector('#df-dc9d35f4-1a33-4619-98bd-7312422a0552 button.colab-df-convert');\n",
              "      buttonEl.style.display =\n",
              "        google.colab.kernel.accessAllowed ? 'block' : 'none';\n",
              "\n",
              "      async function convertToInteractive(key) {\n",
              "        const element = document.querySelector('#df-dc9d35f4-1a33-4619-98bd-7312422a0552');\n",
              "        const dataTable =\n",
              "          await google.colab.kernel.invokeFunction('convertToInteractive',\n",
              "                                                    [key], {});\n",
              "        if (!dataTable) return;\n",
              "\n",
              "        const docLinkHtml = 'Like what you see? Visit the ' +\n",
              "          '<a target=\"_blank\" href=https://colab.research.google.com/notebooks/data_table.ipynb>data table notebook</a>'\n",
              "          + ' to learn more about interactive tables.';\n",
              "        element.innerHTML = '';\n",
              "        dataTable['output_type'] = 'display_data';\n",
              "        await google.colab.output.renderOutput(dataTable, element);\n",
              "        const docLink = document.createElement('div');\n",
              "        docLink.innerHTML = docLinkHtml;\n",
              "        element.appendChild(docLink);\n",
              "      }\n",
              "    </script>\n",
              "  </div>\n",
              "\n",
              "\n",
              "<div id=\"df-586c39e1-952c-4ec0-a3a5-482604a43928\">\n",
              "  <button class=\"colab-df-quickchart\" onclick=\"quickchart('df-586c39e1-952c-4ec0-a3a5-482604a43928')\"\n",
              "            title=\"Suggest charts\"\n",
              "            style=\"display:none;\">\n",
              "\n",
              "<svg xmlns=\"http://www.w3.org/2000/svg\" height=\"24px\"viewBox=\"0 0 24 24\"\n",
              "     width=\"24px\">\n",
              "    <g>\n",
              "        <path d=\"M19 3H5c-1.1 0-2 .9-2 2v14c0 1.1.9 2 2 2h14c1.1 0 2-.9 2-2V5c0-1.1-.9-2-2-2zM9 17H7v-7h2v7zm4 0h-2V7h2v10zm4 0h-2v-4h2v4z\"/>\n",
              "    </g>\n",
              "</svg>\n",
              "  </button>\n",
              "\n",
              "<style>\n",
              "  .colab-df-quickchart {\n",
              "      --bg-color: #E8F0FE;\n",
              "      --fill-color: #1967D2;\n",
              "      --hover-bg-color: #E2EBFA;\n",
              "      --hover-fill-color: #174EA6;\n",
              "      --disabled-fill-color: #AAA;\n",
              "      --disabled-bg-color: #DDD;\n",
              "  }\n",
              "\n",
              "  [theme=dark] .colab-df-quickchart {\n",
              "      --bg-color: #3B4455;\n",
              "      --fill-color: #D2E3FC;\n",
              "      --hover-bg-color: #434B5C;\n",
              "      --hover-fill-color: #FFFFFF;\n",
              "      --disabled-bg-color: #3B4455;\n",
              "      --disabled-fill-color: #666;\n",
              "  }\n",
              "\n",
              "  .colab-df-quickchart {\n",
              "    background-color: var(--bg-color);\n",
              "    border: none;\n",
              "    border-radius: 50%;\n",
              "    cursor: pointer;\n",
              "    display: none;\n",
              "    fill: var(--fill-color);\n",
              "    height: 32px;\n",
              "    padding: 0;\n",
              "    width: 32px;\n",
              "  }\n",
              "\n",
              "  .colab-df-quickchart:hover {\n",
              "    background-color: var(--hover-bg-color);\n",
              "    box-shadow: 0 1px 2px rgba(60, 64, 67, 0.3), 0 1px 3px 1px rgba(60, 64, 67, 0.15);\n",
              "    fill: var(--button-hover-fill-color);\n",
              "  }\n",
              "\n",
              "  .colab-df-quickchart-complete:disabled,\n",
              "  .colab-df-quickchart-complete:disabled:hover {\n",
              "    background-color: var(--disabled-bg-color);\n",
              "    fill: var(--disabled-fill-color);\n",
              "    box-shadow: none;\n",
              "  }\n",
              "\n",
              "  .colab-df-spinner {\n",
              "    border: 2px solid var(--fill-color);\n",
              "    border-color: transparent;\n",
              "    border-bottom-color: var(--fill-color);\n",
              "    animation:\n",
              "      spin 1s steps(1) infinite;\n",
              "  }\n",
              "\n",
              "  @keyframes spin {\n",
              "    0% {\n",
              "      border-color: transparent;\n",
              "      border-bottom-color: var(--fill-color);\n",
              "      border-left-color: var(--fill-color);\n",
              "    }\n",
              "    20% {\n",
              "      border-color: transparent;\n",
              "      border-left-color: var(--fill-color);\n",
              "      border-top-color: var(--fill-color);\n",
              "    }\n",
              "    30% {\n",
              "      border-color: transparent;\n",
              "      border-left-color: var(--fill-color);\n",
              "      border-top-color: var(--fill-color);\n",
              "      border-right-color: var(--fill-color);\n",
              "    }\n",
              "    40% {\n",
              "      border-color: transparent;\n",
              "      border-right-color: var(--fill-color);\n",
              "      border-top-color: var(--fill-color);\n",
              "    }\n",
              "    60% {\n",
              "      border-color: transparent;\n",
              "      border-right-color: var(--fill-color);\n",
              "    }\n",
              "    80% {\n",
              "      border-color: transparent;\n",
              "      border-right-color: var(--fill-color);\n",
              "      border-bottom-color: var(--fill-color);\n",
              "    }\n",
              "    90% {\n",
              "      border-color: transparent;\n",
              "      border-bottom-color: var(--fill-color);\n",
              "    }\n",
              "  }\n",
              "</style>\n",
              "\n",
              "  <script>\n",
              "    async function quickchart(key) {\n",
              "      const quickchartButtonEl =\n",
              "        document.querySelector('#' + key + ' button');\n",
              "      quickchartButtonEl.disabled = true;  // To prevent multiple clicks.\n",
              "      quickchartButtonEl.classList.add('colab-df-spinner');\n",
              "      try {\n",
              "        const charts = await google.colab.kernel.invokeFunction(\n",
              "            'suggestCharts', [key], {});\n",
              "      } catch (error) {\n",
              "        console.error('Error during call to suggestCharts:', error);\n",
              "      }\n",
              "      quickchartButtonEl.classList.remove('colab-df-spinner');\n",
              "      quickchartButtonEl.classList.add('colab-df-quickchart-complete');\n",
              "    }\n",
              "    (() => {\n",
              "      let quickchartButtonEl =\n",
              "        document.querySelector('#df-586c39e1-952c-4ec0-a3a5-482604a43928 button');\n",
              "      quickchartButtonEl.style.display =\n",
              "        google.colab.kernel.accessAllowed ? 'block' : 'none';\n",
              "    })();\n",
              "  </script>\n",
              "</div>\n",
              "    </div>\n",
              "  </div>\n"
            ]
          },
          "metadata": {},
          "execution_count": 4
        }
      ]
    },
    {
      "cell_type": "markdown",
      "source": [
        "We see that theres columns describing the ID, the book, the chapter and verse number, and finally the t-column containing the verse as a string"
      ],
      "metadata": {
        "id": "MUDqy3G_gbpE"
      }
    },
    {
      "cell_type": "markdown",
      "source": [
        "## Loading data"
      ],
      "metadata": {
        "id": "hsOcLY7LwVlw"
      }
    },
    {
      "cell_type": "code",
      "source": [
        "# defining the simple sentence transformer model\n",
        "\n",
        "model = SentenceTransformer('all-MiniLM-L6-v2')"
      ],
      "metadata": {
        "colab": {
          "base_uri": "https://localhost:8080/"
        },
        "id": "Y7p8Qm5IwXUl",
        "outputId": "3080c661-206b-4f0d-e15d-5582a0836750"
      },
      "execution_count": 5,
      "outputs": [
        {
          "output_type": "stream",
          "name": "stderr",
          "text": [
            "/usr/local/lib/python3.10/dist-packages/huggingface_hub/utils/_token.py:88: UserWarning: \n",
            "The secret `HF_TOKEN` does not exist in your Colab secrets.\n",
            "To authenticate with the Hugging Face Hub, create a token in your settings tab (https://huggingface.co/settings/tokens), set it as secret in your Google Colab and restart your session.\n",
            "You will be able to reuse this secret in all of your notebooks.\n",
            "Please note that authentication is recommended but still optional to access public models or datasets.\n",
            "  warnings.warn(\n"
          ]
        }
      ]
    },
    {
      "cell_type": "markdown",
      "source": [
        "## EDA"
      ],
      "metadata": {
        "id": "jMX3z4PZwk1F"
      }
    },
    {
      "cell_type": "code",
      "source": [
        "df.shape"
      ],
      "metadata": {
        "colab": {
          "base_uri": "https://localhost:8080/"
        },
        "id": "wPef5596wod7",
        "outputId": "49d25c97-8829-4351-d490-ca25ca73edd1"
      },
      "execution_count": 6,
      "outputs": [
        {
          "output_type": "execute_result",
          "data": {
            "text/plain": [
              "(31103, 5)"
            ]
          },
          "metadata": {},
          "execution_count": 6
        }
      ]
    },
    {
      "cell_type": "code",
      "source": [
        "df.info()"
      ],
      "metadata": {
        "colab": {
          "base_uri": "https://localhost:8080/"
        },
        "id": "sXqxEXsi16sz",
        "outputId": "98fd2668-a88b-48ce-8a81-732a47bfff08"
      },
      "execution_count": 7,
      "outputs": [
        {
          "output_type": "stream",
          "name": "stdout",
          "text": [
            "<class 'pandas.core.frame.DataFrame'>\n",
            "RangeIndex: 31103 entries, 0 to 31102\n",
            "Data columns (total 5 columns):\n",
            " #   Column  Non-Null Count  Dtype \n",
            "---  ------  --------------  ----- \n",
            " 0   id      31103 non-null  int64 \n",
            " 1   b       31103 non-null  int64 \n",
            " 2   c       31103 non-null  int64 \n",
            " 3   v       31103 non-null  int64 \n",
            " 4   t       31103 non-null  object\n",
            "dtypes: int64(4), object(1)\n",
            "memory usage: 1.2+ MB\n"
          ]
        }
      ]
    },
    {
      "cell_type": "code",
      "source": [
        "# Adding a variable showing if the book is from the Old or New testament\n",
        "df['t'] = df['t'].astype('str')\n",
        "df.loc[df['b'] <= 39, 'Testament'] = 'Old'\n",
        "df.loc[df['b'] > 39, 'Testament'] = 'New'\n",
        "df"
      ],
      "metadata": {
        "colab": {
          "base_uri": "https://localhost:8080/",
          "height": 423
        },
        "id": "SZ4UcUbv61_A",
        "outputId": "7c6e0a94-240f-4b2a-eca1-b44fb36d3676"
      },
      "execution_count": 8,
      "outputs": [
        {
          "output_type": "execute_result",
          "data": {
            "text/plain": [
              "             id   b   c   v  \\\n",
              "0       1001001   1   1   1   \n",
              "1       1001002   1   1   2   \n",
              "2       1001003   1   1   3   \n",
              "3       1001004   1   1   4   \n",
              "4       1001005   1   1   5   \n",
              "...         ...  ..  ..  ..   \n",
              "31098  66022017  66  22  17   \n",
              "31099  66022018  66  22  18   \n",
              "31100  66022019  66  22  19   \n",
              "31101  66022020  66  22  20   \n",
              "31102  66022021  66  22  21   \n",
              "\n",
              "                                                       t Testament  \n",
              "0        At the first God made the heaven and the earth.       Old  \n",
              "1      And the earth was waste and without form; and ...       Old  \n",
              "2      And God said, Let there be light: and there wa...       Old  \n",
              "3      And God, looking on the light, saw that it was...       Old  \n",
              "4      Naming the light, Day, and the dark, Night. An...       Old  \n",
              "...                                                  ...       ...  \n",
              "31098  And the Spirit and the bride say, Come. And le...       New  \n",
              "31099  For I say to every man to whose ears have come...       New  \n",
              "31100  And if any man takes away from the words of th...       New  \n",
              "31101  He who gives witness to these things says, Tru...       New  \n",
              "31102  The grace of the Lord Jesus be with the saints...       New  \n",
              "\n",
              "[31103 rows x 6 columns]"
            ],
            "text/html": [
              "\n",
              "  <div id=\"df-cca5d901-a537-43c8-af65-a79266b8a8a5\" class=\"colab-df-container\">\n",
              "    <div>\n",
              "<style scoped>\n",
              "    .dataframe tbody tr th:only-of-type {\n",
              "        vertical-align: middle;\n",
              "    }\n",
              "\n",
              "    .dataframe tbody tr th {\n",
              "        vertical-align: top;\n",
              "    }\n",
              "\n",
              "    .dataframe thead th {\n",
              "        text-align: right;\n",
              "    }\n",
              "</style>\n",
              "<table border=\"1\" class=\"dataframe\">\n",
              "  <thead>\n",
              "    <tr style=\"text-align: right;\">\n",
              "      <th></th>\n",
              "      <th>id</th>\n",
              "      <th>b</th>\n",
              "      <th>c</th>\n",
              "      <th>v</th>\n",
              "      <th>t</th>\n",
              "      <th>Testament</th>\n",
              "    </tr>\n",
              "  </thead>\n",
              "  <tbody>\n",
              "    <tr>\n",
              "      <th>0</th>\n",
              "      <td>1001001</td>\n",
              "      <td>1</td>\n",
              "      <td>1</td>\n",
              "      <td>1</td>\n",
              "      <td>At the first God made the heaven and the earth.</td>\n",
              "      <td>Old</td>\n",
              "    </tr>\n",
              "    <tr>\n",
              "      <th>1</th>\n",
              "      <td>1001002</td>\n",
              "      <td>1</td>\n",
              "      <td>1</td>\n",
              "      <td>2</td>\n",
              "      <td>And the earth was waste and without form; and ...</td>\n",
              "      <td>Old</td>\n",
              "    </tr>\n",
              "    <tr>\n",
              "      <th>2</th>\n",
              "      <td>1001003</td>\n",
              "      <td>1</td>\n",
              "      <td>1</td>\n",
              "      <td>3</td>\n",
              "      <td>And God said, Let there be light: and there wa...</td>\n",
              "      <td>Old</td>\n",
              "    </tr>\n",
              "    <tr>\n",
              "      <th>3</th>\n",
              "      <td>1001004</td>\n",
              "      <td>1</td>\n",
              "      <td>1</td>\n",
              "      <td>4</td>\n",
              "      <td>And God, looking on the light, saw that it was...</td>\n",
              "      <td>Old</td>\n",
              "    </tr>\n",
              "    <tr>\n",
              "      <th>4</th>\n",
              "      <td>1001005</td>\n",
              "      <td>1</td>\n",
              "      <td>1</td>\n",
              "      <td>5</td>\n",
              "      <td>Naming the light, Day, and the dark, Night. An...</td>\n",
              "      <td>Old</td>\n",
              "    </tr>\n",
              "    <tr>\n",
              "      <th>...</th>\n",
              "      <td>...</td>\n",
              "      <td>...</td>\n",
              "      <td>...</td>\n",
              "      <td>...</td>\n",
              "      <td>...</td>\n",
              "      <td>...</td>\n",
              "    </tr>\n",
              "    <tr>\n",
              "      <th>31098</th>\n",
              "      <td>66022017</td>\n",
              "      <td>66</td>\n",
              "      <td>22</td>\n",
              "      <td>17</td>\n",
              "      <td>And the Spirit and the bride say, Come. And le...</td>\n",
              "      <td>New</td>\n",
              "    </tr>\n",
              "    <tr>\n",
              "      <th>31099</th>\n",
              "      <td>66022018</td>\n",
              "      <td>66</td>\n",
              "      <td>22</td>\n",
              "      <td>18</td>\n",
              "      <td>For I say to every man to whose ears have come...</td>\n",
              "      <td>New</td>\n",
              "    </tr>\n",
              "    <tr>\n",
              "      <th>31100</th>\n",
              "      <td>66022019</td>\n",
              "      <td>66</td>\n",
              "      <td>22</td>\n",
              "      <td>19</td>\n",
              "      <td>And if any man takes away from the words of th...</td>\n",
              "      <td>New</td>\n",
              "    </tr>\n",
              "    <tr>\n",
              "      <th>31101</th>\n",
              "      <td>66022020</td>\n",
              "      <td>66</td>\n",
              "      <td>22</td>\n",
              "      <td>20</td>\n",
              "      <td>He who gives witness to these things says, Tru...</td>\n",
              "      <td>New</td>\n",
              "    </tr>\n",
              "    <tr>\n",
              "      <th>31102</th>\n",
              "      <td>66022021</td>\n",
              "      <td>66</td>\n",
              "      <td>22</td>\n",
              "      <td>21</td>\n",
              "      <td>The grace of the Lord Jesus be with the saints...</td>\n",
              "      <td>New</td>\n",
              "    </tr>\n",
              "  </tbody>\n",
              "</table>\n",
              "<p>31103 rows × 6 columns</p>\n",
              "</div>\n",
              "    <div class=\"colab-df-buttons\">\n",
              "\n",
              "  <div class=\"colab-df-container\">\n",
              "    <button class=\"colab-df-convert\" onclick=\"convertToInteractive('df-cca5d901-a537-43c8-af65-a79266b8a8a5')\"\n",
              "            title=\"Convert this dataframe to an interactive table.\"\n",
              "            style=\"display:none;\">\n",
              "\n",
              "  <svg xmlns=\"http://www.w3.org/2000/svg\" height=\"24px\" viewBox=\"0 -960 960 960\">\n",
              "    <path d=\"M120-120v-720h720v720H120Zm60-500h600v-160H180v160Zm220 220h160v-160H400v160Zm0 220h160v-160H400v160ZM180-400h160v-160H180v160Zm440 0h160v-160H620v160ZM180-180h160v-160H180v160Zm440 0h160v-160H620v160Z\"/>\n",
              "  </svg>\n",
              "    </button>\n",
              "\n",
              "  <style>\n",
              "    .colab-df-container {\n",
              "      display:flex;\n",
              "      gap: 12px;\n",
              "    }\n",
              "\n",
              "    .colab-df-convert {\n",
              "      background-color: #E8F0FE;\n",
              "      border: none;\n",
              "      border-radius: 50%;\n",
              "      cursor: pointer;\n",
              "      display: none;\n",
              "      fill: #1967D2;\n",
              "      height: 32px;\n",
              "      padding: 0 0 0 0;\n",
              "      width: 32px;\n",
              "    }\n",
              "\n",
              "    .colab-df-convert:hover {\n",
              "      background-color: #E2EBFA;\n",
              "      box-shadow: 0px 1px 2px rgba(60, 64, 67, 0.3), 0px 1px 3px 1px rgba(60, 64, 67, 0.15);\n",
              "      fill: #174EA6;\n",
              "    }\n",
              "\n",
              "    .colab-df-buttons div {\n",
              "      margin-bottom: 4px;\n",
              "    }\n",
              "\n",
              "    [theme=dark] .colab-df-convert {\n",
              "      background-color: #3B4455;\n",
              "      fill: #D2E3FC;\n",
              "    }\n",
              "\n",
              "    [theme=dark] .colab-df-convert:hover {\n",
              "      background-color: #434B5C;\n",
              "      box-shadow: 0px 1px 3px 1px rgba(0, 0, 0, 0.15);\n",
              "      filter: drop-shadow(0px 1px 2px rgba(0, 0, 0, 0.3));\n",
              "      fill: #FFFFFF;\n",
              "    }\n",
              "  </style>\n",
              "\n",
              "    <script>\n",
              "      const buttonEl =\n",
              "        document.querySelector('#df-cca5d901-a537-43c8-af65-a79266b8a8a5 button.colab-df-convert');\n",
              "      buttonEl.style.display =\n",
              "        google.colab.kernel.accessAllowed ? 'block' : 'none';\n",
              "\n",
              "      async function convertToInteractive(key) {\n",
              "        const element = document.querySelector('#df-cca5d901-a537-43c8-af65-a79266b8a8a5');\n",
              "        const dataTable =\n",
              "          await google.colab.kernel.invokeFunction('convertToInteractive',\n",
              "                                                    [key], {});\n",
              "        if (!dataTable) return;\n",
              "\n",
              "        const docLinkHtml = 'Like what you see? Visit the ' +\n",
              "          '<a target=\"_blank\" href=https://colab.research.google.com/notebooks/data_table.ipynb>data table notebook</a>'\n",
              "          + ' to learn more about interactive tables.';\n",
              "        element.innerHTML = '';\n",
              "        dataTable['output_type'] = 'display_data';\n",
              "        await google.colab.output.renderOutput(dataTable, element);\n",
              "        const docLink = document.createElement('div');\n",
              "        docLink.innerHTML = docLinkHtml;\n",
              "        element.appendChild(docLink);\n",
              "      }\n",
              "    </script>\n",
              "  </div>\n",
              "\n",
              "\n",
              "<div id=\"df-81db2f6c-8213-46f2-b49a-00433dde4542\">\n",
              "  <button class=\"colab-df-quickchart\" onclick=\"quickchart('df-81db2f6c-8213-46f2-b49a-00433dde4542')\"\n",
              "            title=\"Suggest charts\"\n",
              "            style=\"display:none;\">\n",
              "\n",
              "<svg xmlns=\"http://www.w3.org/2000/svg\" height=\"24px\"viewBox=\"0 0 24 24\"\n",
              "     width=\"24px\">\n",
              "    <g>\n",
              "        <path d=\"M19 3H5c-1.1 0-2 .9-2 2v14c0 1.1.9 2 2 2h14c1.1 0 2-.9 2-2V5c0-1.1-.9-2-2-2zM9 17H7v-7h2v7zm4 0h-2V7h2v10zm4 0h-2v-4h2v4z\"/>\n",
              "    </g>\n",
              "</svg>\n",
              "  </button>\n",
              "\n",
              "<style>\n",
              "  .colab-df-quickchart {\n",
              "      --bg-color: #E8F0FE;\n",
              "      --fill-color: #1967D2;\n",
              "      --hover-bg-color: #E2EBFA;\n",
              "      --hover-fill-color: #174EA6;\n",
              "      --disabled-fill-color: #AAA;\n",
              "      --disabled-bg-color: #DDD;\n",
              "  }\n",
              "\n",
              "  [theme=dark] .colab-df-quickchart {\n",
              "      --bg-color: #3B4455;\n",
              "      --fill-color: #D2E3FC;\n",
              "      --hover-bg-color: #434B5C;\n",
              "      --hover-fill-color: #FFFFFF;\n",
              "      --disabled-bg-color: #3B4455;\n",
              "      --disabled-fill-color: #666;\n",
              "  }\n",
              "\n",
              "  .colab-df-quickchart {\n",
              "    background-color: var(--bg-color);\n",
              "    border: none;\n",
              "    border-radius: 50%;\n",
              "    cursor: pointer;\n",
              "    display: none;\n",
              "    fill: var(--fill-color);\n",
              "    height: 32px;\n",
              "    padding: 0;\n",
              "    width: 32px;\n",
              "  }\n",
              "\n",
              "  .colab-df-quickchart:hover {\n",
              "    background-color: var(--hover-bg-color);\n",
              "    box-shadow: 0 1px 2px rgba(60, 64, 67, 0.3), 0 1px 3px 1px rgba(60, 64, 67, 0.15);\n",
              "    fill: var(--button-hover-fill-color);\n",
              "  }\n",
              "\n",
              "  .colab-df-quickchart-complete:disabled,\n",
              "  .colab-df-quickchart-complete:disabled:hover {\n",
              "    background-color: var(--disabled-bg-color);\n",
              "    fill: var(--disabled-fill-color);\n",
              "    box-shadow: none;\n",
              "  }\n",
              "\n",
              "  .colab-df-spinner {\n",
              "    border: 2px solid var(--fill-color);\n",
              "    border-color: transparent;\n",
              "    border-bottom-color: var(--fill-color);\n",
              "    animation:\n",
              "      spin 1s steps(1) infinite;\n",
              "  }\n",
              "\n",
              "  @keyframes spin {\n",
              "    0% {\n",
              "      border-color: transparent;\n",
              "      border-bottom-color: var(--fill-color);\n",
              "      border-left-color: var(--fill-color);\n",
              "    }\n",
              "    20% {\n",
              "      border-color: transparent;\n",
              "      border-left-color: var(--fill-color);\n",
              "      border-top-color: var(--fill-color);\n",
              "    }\n",
              "    30% {\n",
              "      border-color: transparent;\n",
              "      border-left-color: var(--fill-color);\n",
              "      border-top-color: var(--fill-color);\n",
              "      border-right-color: var(--fill-color);\n",
              "    }\n",
              "    40% {\n",
              "      border-color: transparent;\n",
              "      border-right-color: var(--fill-color);\n",
              "      border-top-color: var(--fill-color);\n",
              "    }\n",
              "    60% {\n",
              "      border-color: transparent;\n",
              "      border-right-color: var(--fill-color);\n",
              "    }\n",
              "    80% {\n",
              "      border-color: transparent;\n",
              "      border-right-color: var(--fill-color);\n",
              "      border-bottom-color: var(--fill-color);\n",
              "    }\n",
              "    90% {\n",
              "      border-color: transparent;\n",
              "      border-bottom-color: var(--fill-color);\n",
              "    }\n",
              "  }\n",
              "</style>\n",
              "\n",
              "  <script>\n",
              "    async function quickchart(key) {\n",
              "      const quickchartButtonEl =\n",
              "        document.querySelector('#' + key + ' button');\n",
              "      quickchartButtonEl.disabled = true;  // To prevent multiple clicks.\n",
              "      quickchartButtonEl.classList.add('colab-df-spinner');\n",
              "      try {\n",
              "        const charts = await google.colab.kernel.invokeFunction(\n",
              "            'suggestCharts', [key], {});\n",
              "      } catch (error) {\n",
              "        console.error('Error during call to suggestCharts:', error);\n",
              "      }\n",
              "      quickchartButtonEl.classList.remove('colab-df-spinner');\n",
              "      quickchartButtonEl.classList.add('colab-df-quickchart-complete');\n",
              "    }\n",
              "    (() => {\n",
              "      let quickchartButtonEl =\n",
              "        document.querySelector('#df-81db2f6c-8213-46f2-b49a-00433dde4542 button');\n",
              "      quickchartButtonEl.style.display =\n",
              "        google.colab.kernel.accessAllowed ? 'block' : 'none';\n",
              "    })();\n",
              "  </script>\n",
              "</div>\n",
              "    </div>\n",
              "  </div>\n"
            ]
          },
          "metadata": {},
          "execution_count": 8
        }
      ]
    },
    {
      "cell_type": "code",
      "source": [
        "df.nunique()"
      ],
      "metadata": {
        "colab": {
          "base_uri": "https://localhost:8080/"
        },
        "id": "5GkGoMSi1_WB",
        "outputId": "917e44e7-d724-47e3-b9db-92da2a5fd17c"
      },
      "execution_count": 9,
      "outputs": [
        {
          "output_type": "execute_result",
          "data": {
            "text/plain": [
              "id           31103\n",
              "b               66\n",
              "c              150\n",
              "v              176\n",
              "t            30704\n",
              "Testament        2\n",
              "dtype: int64"
            ]
          },
          "metadata": {},
          "execution_count": 9
        }
      ]
    },
    {
      "cell_type": "code",
      "source": [
        "df_book_1 = df[df['b']==1]"
      ],
      "metadata": {
        "id": "Hp0_L8Gq2Mf3"
      },
      "execution_count": 10,
      "outputs": []
    },
    {
      "cell_type": "code",
      "source": [
        "df_old = df[df['Testament'] == 'Old']\n",
        "df_new = df[df['Testament'] == 'New']"
      ],
      "metadata": {
        "id": "ZVCmtr0s7B_8"
      },
      "execution_count": 11,
      "outputs": []
    },
    {
      "cell_type": "code",
      "source": [
        "df_old.shape"
      ],
      "metadata": {
        "colab": {
          "base_uri": "https://localhost:8080/"
        },
        "id": "s6s9JMzj7V8d",
        "outputId": "10c09815-afee-4216-eade-69285acd82ee"
      },
      "execution_count": 12,
      "outputs": [
        {
          "output_type": "execute_result",
          "data": {
            "text/plain": [
              "(23145, 6)"
            ]
          },
          "metadata": {},
          "execution_count": 12
        }
      ]
    },
    {
      "cell_type": "code",
      "source": [
        "df_new.shape"
      ],
      "metadata": {
        "colab": {
          "base_uri": "https://localhost:8080/"
        },
        "id": "olC4jlKm7YQq",
        "outputId": "5d556ea8-cfe7-41ba-ceaf-db138de575c8"
      },
      "execution_count": 13,
      "outputs": [
        {
          "output_type": "execute_result",
          "data": {
            "text/plain": [
              "(7958, 6)"
            ]
          },
          "metadata": {},
          "execution_count": 13
        }
      ]
    },
    {
      "cell_type": "markdown",
      "source": [
        "We choose to only include the new testament, to reduce rescources and load times."
      ],
      "metadata": {
        "id": "aKCYgE0ogz--"
      }
    },
    {
      "cell_type": "markdown",
      "source": [
        "## Generating Embeddings"
      ],
      "metadata": {
        "id": "mM1IN01_wxV1"
      }
    },
    {
      "cell_type": "code",
      "source": [
        "# defining a variable containing all the verses in a list.\n",
        "documents = df_new['t'].tolist()"
      ],
      "metadata": {
        "id": "20d77WSLw4ra"
      },
      "execution_count": 14,
      "outputs": []
    },
    {
      "cell_type": "code",
      "source": [
        "# converting our text data into sentence embeddings\n",
        "\n",
        "doc_embeddings = model.encode(documents)"
      ],
      "metadata": {
        "id": "I8GUJa1aw0RI"
      },
      "execution_count": 15,
      "outputs": []
    },
    {
      "cell_type": "code",
      "source": [
        "doc_embeddings.shape"
      ],
      "metadata": {
        "id": "sQfiZv_uxPLA",
        "colab": {
          "base_uri": "https://localhost:8080/"
        },
        "outputId": "e33dc355-809e-4452-e6ed-f0f9b7efacf3"
      },
      "execution_count": 16,
      "outputs": [
        {
          "output_type": "execute_result",
          "data": {
            "text/plain": [
              "(7958, 384)"
            ]
          },
          "metadata": {},
          "execution_count": 16
        }
      ]
    },
    {
      "cell_type": "markdown",
      "source": [
        "we have 7958 verses with 384 dimentions"
      ],
      "metadata": {
        "id": "hOw1weyYhI-Y"
      }
    },
    {
      "cell_type": "markdown",
      "source": [
        "## Implementing the Search Function"
      ],
      "metadata": {
        "id": "4njq2QQ44yYK"
      }
    },
    {
      "cell_type": "code",
      "source": [
        "from sentence_transformers import util\n",
        "\n",
        "def semantic_search(query, doc_embeddings, documents):\n",
        "  query_embedding= model.encode(query) # Create the sentence embedding for the query\n",
        "  cosine_similarities = util.pytorch_cos_sim(query_embedding, doc_embeddings)[0] # Calculate the cosine similarity and look up the first one\n",
        "  closest = np.argmax(cosine_similarities) # Search for the closest embedding\n",
        "  return documents[closest]"
      ],
      "metadata": {
        "id": "4jfB8Hwl4vrv"
      },
      "execution_count": 17,
      "outputs": []
    },
    {
      "cell_type": "markdown",
      "source": [
        "## Testing our semantic search engine"
      ],
      "metadata": {
        "id": "j7G2LQh_49gi"
      }
    },
    {
      "cell_type": "code",
      "source": [
        "query = \"Chase your dreams with all your might.\" #random inspirational quote\n",
        "result = semantic_search(query, doc_embeddings, documents)\n",
        "print(f\"Query: {query}\\nBest match: {result}\")"
      ],
      "metadata": {
        "id": "Fa9MEYwQ5Ab0",
        "colab": {
          "base_uri": "https://localhost:8080/"
        },
        "outputId": "e0d6cdf3-073b-4bb7-b9ee-3814e3d768e2"
      },
      "execution_count": 18,
      "outputs": [
        {
          "output_type": "stream",
          "name": "stdout",
          "text": [
            "Query: Chase your dreams with all your might.\n",
            "Best match: Have a care for these things; give yourself to them with all your heart, so that all may see how you go forward.\n"
          ]
        }
      ]
    },
    {
      "cell_type": "markdown",
      "source": [
        "## Creating Gradio"
      ],
      "metadata": {
        "id": "5x1nzNrs9H1Q"
      }
    },
    {
      "cell_type": "code",
      "source": [
        "# Installing gradio to make an interface\n",
        "!pip install gradio -q"
      ],
      "metadata": {
        "id": "56hXtco5-FUQ"
      },
      "execution_count": 19,
      "outputs": []
    },
    {
      "cell_type": "code",
      "source": [
        "# For creating interface\n",
        "import gradio as gr"
      ],
      "metadata": {
        "id": "tGI0GcLk-Sz0"
      },
      "execution_count": 20,
      "outputs": []
    },
    {
      "cell_type": "code",
      "source": [
        "def find_similar(query):\n",
        "    vers = semantic_search(query, doc_embeddings, documents)\n",
        "    return vers"
      ],
      "metadata": {
        "id": "ClFEVUDOupjU"
      },
      "execution_count": 21,
      "outputs": []
    },
    {
      "cell_type": "code",
      "source": [
        "find_similar('Live, Love, Laugh') #testing the function"
      ],
      "metadata": {
        "id": "uR0r9iMe_1e6",
        "colab": {
          "base_uri": "https://localhost:8080/",
          "height": 35
        },
        "outputId": "810428a5-3832-4aac-c3cc-2813561929a9"
      },
      "execution_count": 22,
      "outputs": [
        {
          "output_type": "execute_result",
          "data": {
            "text/plain": [
              "'Be troubled, with sorrow and weeping; let your laughing be turned to sorrow and your joy to grief.'"
            ],
            "application/vnd.google.colaboratory.intrinsic+json": {
              "type": "string"
            }
          },
          "metadata": {},
          "execution_count": 22
        }
      ]
    },
    {
      "cell_type": "markdown",
      "source": [
        "## Creating the Gradio application"
      ],
      "metadata": {
        "id": "GI0lQHrjhw75"
      }
    },
    {
      "cell_type": "code",
      "source": [
        "markdown = '''\n",
        "# This app performs semantic search to find the most relevant bible verse to your inspirational instagram quote.\n",
        "'''"
      ],
      "metadata": {
        "id": "LLb-QAaY-X10"
      },
      "execution_count": 23,
      "outputs": []
    },
    {
      "cell_type": "code",
      "source": [
        "with gr.Blocks() as demo:\n",
        "    with gr.Row():\n",
        "        with gr.Column():\n",
        "            gr.Markdown(markdown)\n",
        "            gr.Image(\"https://m.media-amazon.com/images/I/71HrIj6FUhL.jpg\")\n",
        "\n",
        "        with gr.Column():\n",
        "            gr.Markdown(\"\"\"\n",
        "            ## Semantic Search\n",
        "            \"\"\")\n",
        "            Text = gr.Text(label=\"Enter your inspirational instagram quote:\")\n",
        "            btn = gr.Button(\"Find my bible verse!\")\n",
        "\n",
        "            similar = gr.Textbox(label='Most similar bible verse:')\n",
        "            gr.Examples([[\"Live, Love, Laugh\"], [\"Life is a canvas\"], [\"Embrace the journey\"]], inputs=[Text], outputs=[similar])\n",
        "\n",
        "    btn.click(\n",
        "        find_similar,\n",
        "        inputs=[Text],\n",
        "        outputs=[similar],\n",
        "    )\n",
        "\n",
        "if __name__ == \"__main__\":\n",
        "    demo.launch()"
      ],
      "metadata": {
        "id": "FT31Y_OrtsbS",
        "colab": {
          "base_uri": "https://localhost:8080/",
          "height": 625
        },
        "outputId": "1b156ecb-bc8f-44a7-d02a-cb8c2bd58880"
      },
      "execution_count": 39,
      "outputs": [
        {
          "output_type": "stream",
          "name": "stdout",
          "text": [
            "Setting queue=True in a Colab notebook requires sharing enabled. Setting `share=True` (you can turn this off by setting `share=False` in `launch()` explicitly).\n",
            "\n",
            "Colab notebook detected. To show errors in colab notebook, set debug=True in launch()\n",
            "Running on public URL: https://87c8adbee4316c4a3c.gradio.live\n",
            "\n",
            "This share link expires in 72 hours. For free permanent hosting and GPU upgrades, run `gradio deploy` from Terminal to deploy to Spaces (https://huggingface.co/spaces)\n"
          ]
        },
        {
          "output_type": "display_data",
          "data": {
            "text/plain": [
              "<IPython.core.display.HTML object>"
            ],
            "text/html": [
              "<div><iframe src=\"https://87c8adbee4316c4a3c.gradio.live\" width=\"100%\" height=\"500\" allow=\"autoplay; camera; microphone; clipboard-read; clipboard-write;\" frameborder=\"0\" allowfullscreen></iframe></div>"
            ]
          },
          "metadata": {}
        }
      ]
    },
    {
      "cell_type": "markdown",
      "source": [
        "# **Part 2: Gradient Descent and Attention Mechanism Exercises**\n",
        "\n",
        "##Task Description:\n",
        "\n",
        "* **Gradient Descent Exercise:** Execute the process of updating weights for two examples using Stochastic Gradient Descent (SGD). Document each step, including input calculation, prediction, loss assessment, weight adjustments, and updates.\n",
        "\n",
        "* **Attention Mechanism Exercise:** Implement the attention mechanism on two distinct sentences. Choose sentences with polysmous words to demonstrate its functionality effectively."
      ],
      "metadata": {
        "id": "m0TRPK5QUhaj"
      }
    },
    {
      "cell_type": "markdown",
      "source": [
        "## **Gradient Descent Exercise**"
      ],
      "metadata": {
        "id": "mT_2flme3DAv"
      }
    },
    {
      "cell_type": "markdown",
      "source": [
        "We found a dataset with salary and years of experience, with linear relationship to demonstrate the Gradient decent"
      ],
      "metadata": {
        "id": "XSLAq9E9h30S"
      }
    },
    {
      "cell_type": "markdown",
      "source": [
        "### **Loading dataset**"
      ],
      "metadata": {
        "id": "vEdf17v83G9c"
      }
    },
    {
      "cell_type": "code",
      "source": [
        "df_2 = pd.read_csv('https://raw.githubusercontent.com/MikkelONielsen/deeplearning_assignment_2/main/salary_dataset.csv')"
      ],
      "metadata": {
        "id": "ilZ8VPzA3M3G"
      },
      "execution_count": 25,
      "outputs": []
    },
    {
      "cell_type": "code",
      "source": [
        "df_2.head()"
      ],
      "metadata": {
        "id": "X2wFSsPi3mOo",
        "colab": {
          "base_uri": "https://localhost:8080/",
          "height": 206
        },
        "outputId": "75c25194-d4bc-4c2a-9692-5f13acbe9568"
      },
      "execution_count": 26,
      "outputs": [
        {
          "output_type": "execute_result",
          "data": {
            "text/plain": [
              "   Unnamed: 0  YearsExperience   Salary\n",
              "0           0              1.2  39344.0\n",
              "1           1              1.4  46206.0\n",
              "2           2              1.6  37732.0\n",
              "3           3              2.1  43526.0\n",
              "4           4              2.3  39892.0"
            ],
            "text/html": [
              "\n",
              "  <div id=\"df-5e3b8b5c-44e2-4c32-8f90-a990300bf437\" class=\"colab-df-container\">\n",
              "    <div>\n",
              "<style scoped>\n",
              "    .dataframe tbody tr th:only-of-type {\n",
              "        vertical-align: middle;\n",
              "    }\n",
              "\n",
              "    .dataframe tbody tr th {\n",
              "        vertical-align: top;\n",
              "    }\n",
              "\n",
              "    .dataframe thead th {\n",
              "        text-align: right;\n",
              "    }\n",
              "</style>\n",
              "<table border=\"1\" class=\"dataframe\">\n",
              "  <thead>\n",
              "    <tr style=\"text-align: right;\">\n",
              "      <th></th>\n",
              "      <th>Unnamed: 0</th>\n",
              "      <th>YearsExperience</th>\n",
              "      <th>Salary</th>\n",
              "    </tr>\n",
              "  </thead>\n",
              "  <tbody>\n",
              "    <tr>\n",
              "      <th>0</th>\n",
              "      <td>0</td>\n",
              "      <td>1.2</td>\n",
              "      <td>39344.0</td>\n",
              "    </tr>\n",
              "    <tr>\n",
              "      <th>1</th>\n",
              "      <td>1</td>\n",
              "      <td>1.4</td>\n",
              "      <td>46206.0</td>\n",
              "    </tr>\n",
              "    <tr>\n",
              "      <th>2</th>\n",
              "      <td>2</td>\n",
              "      <td>1.6</td>\n",
              "      <td>37732.0</td>\n",
              "    </tr>\n",
              "    <tr>\n",
              "      <th>3</th>\n",
              "      <td>3</td>\n",
              "      <td>2.1</td>\n",
              "      <td>43526.0</td>\n",
              "    </tr>\n",
              "    <tr>\n",
              "      <th>4</th>\n",
              "      <td>4</td>\n",
              "      <td>2.3</td>\n",
              "      <td>39892.0</td>\n",
              "    </tr>\n",
              "  </tbody>\n",
              "</table>\n",
              "</div>\n",
              "    <div class=\"colab-df-buttons\">\n",
              "\n",
              "  <div class=\"colab-df-container\">\n",
              "    <button class=\"colab-df-convert\" onclick=\"convertToInteractive('df-5e3b8b5c-44e2-4c32-8f90-a990300bf437')\"\n",
              "            title=\"Convert this dataframe to an interactive table.\"\n",
              "            style=\"display:none;\">\n",
              "\n",
              "  <svg xmlns=\"http://www.w3.org/2000/svg\" height=\"24px\" viewBox=\"0 -960 960 960\">\n",
              "    <path d=\"M120-120v-720h720v720H120Zm60-500h600v-160H180v160Zm220 220h160v-160H400v160Zm0 220h160v-160H400v160ZM180-400h160v-160H180v160Zm440 0h160v-160H620v160ZM180-180h160v-160H180v160Zm440 0h160v-160H620v160Z\"/>\n",
              "  </svg>\n",
              "    </button>\n",
              "\n",
              "  <style>\n",
              "    .colab-df-container {\n",
              "      display:flex;\n",
              "      gap: 12px;\n",
              "    }\n",
              "\n",
              "    .colab-df-convert {\n",
              "      background-color: #E8F0FE;\n",
              "      border: none;\n",
              "      border-radius: 50%;\n",
              "      cursor: pointer;\n",
              "      display: none;\n",
              "      fill: #1967D2;\n",
              "      height: 32px;\n",
              "      padding: 0 0 0 0;\n",
              "      width: 32px;\n",
              "    }\n",
              "\n",
              "    .colab-df-convert:hover {\n",
              "      background-color: #E2EBFA;\n",
              "      box-shadow: 0px 1px 2px rgba(60, 64, 67, 0.3), 0px 1px 3px 1px rgba(60, 64, 67, 0.15);\n",
              "      fill: #174EA6;\n",
              "    }\n",
              "\n",
              "    .colab-df-buttons div {\n",
              "      margin-bottom: 4px;\n",
              "    }\n",
              "\n",
              "    [theme=dark] .colab-df-convert {\n",
              "      background-color: #3B4455;\n",
              "      fill: #D2E3FC;\n",
              "    }\n",
              "\n",
              "    [theme=dark] .colab-df-convert:hover {\n",
              "      background-color: #434B5C;\n",
              "      box-shadow: 0px 1px 3px 1px rgba(0, 0, 0, 0.15);\n",
              "      filter: drop-shadow(0px 1px 2px rgba(0, 0, 0, 0.3));\n",
              "      fill: #FFFFFF;\n",
              "    }\n",
              "  </style>\n",
              "\n",
              "    <script>\n",
              "      const buttonEl =\n",
              "        document.querySelector('#df-5e3b8b5c-44e2-4c32-8f90-a990300bf437 button.colab-df-convert');\n",
              "      buttonEl.style.display =\n",
              "        google.colab.kernel.accessAllowed ? 'block' : 'none';\n",
              "\n",
              "      async function convertToInteractive(key) {\n",
              "        const element = document.querySelector('#df-5e3b8b5c-44e2-4c32-8f90-a990300bf437');\n",
              "        const dataTable =\n",
              "          await google.colab.kernel.invokeFunction('convertToInteractive',\n",
              "                                                    [key], {});\n",
              "        if (!dataTable) return;\n",
              "\n",
              "        const docLinkHtml = 'Like what you see? Visit the ' +\n",
              "          '<a target=\"_blank\" href=https://colab.research.google.com/notebooks/data_table.ipynb>data table notebook</a>'\n",
              "          + ' to learn more about interactive tables.';\n",
              "        element.innerHTML = '';\n",
              "        dataTable['output_type'] = 'display_data';\n",
              "        await google.colab.output.renderOutput(dataTable, element);\n",
              "        const docLink = document.createElement('div');\n",
              "        docLink.innerHTML = docLinkHtml;\n",
              "        element.appendChild(docLink);\n",
              "      }\n",
              "    </script>\n",
              "  </div>\n",
              "\n",
              "\n",
              "<div id=\"df-2910ab13-36b7-4e64-9390-18f9f03c23a2\">\n",
              "  <button class=\"colab-df-quickchart\" onclick=\"quickchart('df-2910ab13-36b7-4e64-9390-18f9f03c23a2')\"\n",
              "            title=\"Suggest charts\"\n",
              "            style=\"display:none;\">\n",
              "\n",
              "<svg xmlns=\"http://www.w3.org/2000/svg\" height=\"24px\"viewBox=\"0 0 24 24\"\n",
              "     width=\"24px\">\n",
              "    <g>\n",
              "        <path d=\"M19 3H5c-1.1 0-2 .9-2 2v14c0 1.1.9 2 2 2h14c1.1 0 2-.9 2-2V5c0-1.1-.9-2-2-2zM9 17H7v-7h2v7zm4 0h-2V7h2v10zm4 0h-2v-4h2v4z\"/>\n",
              "    </g>\n",
              "</svg>\n",
              "  </button>\n",
              "\n",
              "<style>\n",
              "  .colab-df-quickchart {\n",
              "      --bg-color: #E8F0FE;\n",
              "      --fill-color: #1967D2;\n",
              "      --hover-bg-color: #E2EBFA;\n",
              "      --hover-fill-color: #174EA6;\n",
              "      --disabled-fill-color: #AAA;\n",
              "      --disabled-bg-color: #DDD;\n",
              "  }\n",
              "\n",
              "  [theme=dark] .colab-df-quickchart {\n",
              "      --bg-color: #3B4455;\n",
              "      --fill-color: #D2E3FC;\n",
              "      --hover-bg-color: #434B5C;\n",
              "      --hover-fill-color: #FFFFFF;\n",
              "      --disabled-bg-color: #3B4455;\n",
              "      --disabled-fill-color: #666;\n",
              "  }\n",
              "\n",
              "  .colab-df-quickchart {\n",
              "    background-color: var(--bg-color);\n",
              "    border: none;\n",
              "    border-radius: 50%;\n",
              "    cursor: pointer;\n",
              "    display: none;\n",
              "    fill: var(--fill-color);\n",
              "    height: 32px;\n",
              "    padding: 0;\n",
              "    width: 32px;\n",
              "  }\n",
              "\n",
              "  .colab-df-quickchart:hover {\n",
              "    background-color: var(--hover-bg-color);\n",
              "    box-shadow: 0 1px 2px rgba(60, 64, 67, 0.3), 0 1px 3px 1px rgba(60, 64, 67, 0.15);\n",
              "    fill: var(--button-hover-fill-color);\n",
              "  }\n",
              "\n",
              "  .colab-df-quickchart-complete:disabled,\n",
              "  .colab-df-quickchart-complete:disabled:hover {\n",
              "    background-color: var(--disabled-bg-color);\n",
              "    fill: var(--disabled-fill-color);\n",
              "    box-shadow: none;\n",
              "  }\n",
              "\n",
              "  .colab-df-spinner {\n",
              "    border: 2px solid var(--fill-color);\n",
              "    border-color: transparent;\n",
              "    border-bottom-color: var(--fill-color);\n",
              "    animation:\n",
              "      spin 1s steps(1) infinite;\n",
              "  }\n",
              "\n",
              "  @keyframes spin {\n",
              "    0% {\n",
              "      border-color: transparent;\n",
              "      border-bottom-color: var(--fill-color);\n",
              "      border-left-color: var(--fill-color);\n",
              "    }\n",
              "    20% {\n",
              "      border-color: transparent;\n",
              "      border-left-color: var(--fill-color);\n",
              "      border-top-color: var(--fill-color);\n",
              "    }\n",
              "    30% {\n",
              "      border-color: transparent;\n",
              "      border-left-color: var(--fill-color);\n",
              "      border-top-color: var(--fill-color);\n",
              "      border-right-color: var(--fill-color);\n",
              "    }\n",
              "    40% {\n",
              "      border-color: transparent;\n",
              "      border-right-color: var(--fill-color);\n",
              "      border-top-color: var(--fill-color);\n",
              "    }\n",
              "    60% {\n",
              "      border-color: transparent;\n",
              "      border-right-color: var(--fill-color);\n",
              "    }\n",
              "    80% {\n",
              "      border-color: transparent;\n",
              "      border-right-color: var(--fill-color);\n",
              "      border-bottom-color: var(--fill-color);\n",
              "    }\n",
              "    90% {\n",
              "      border-color: transparent;\n",
              "      border-bottom-color: var(--fill-color);\n",
              "    }\n",
              "  }\n",
              "</style>\n",
              "\n",
              "  <script>\n",
              "    async function quickchart(key) {\n",
              "      const quickchartButtonEl =\n",
              "        document.querySelector('#' + key + ' button');\n",
              "      quickchartButtonEl.disabled = true;  // To prevent multiple clicks.\n",
              "      quickchartButtonEl.classList.add('colab-df-spinner');\n",
              "      try {\n",
              "        const charts = await google.colab.kernel.invokeFunction(\n",
              "            'suggestCharts', [key], {});\n",
              "      } catch (error) {\n",
              "        console.error('Error during call to suggestCharts:', error);\n",
              "      }\n",
              "      quickchartButtonEl.classList.remove('colab-df-spinner');\n",
              "      quickchartButtonEl.classList.add('colab-df-quickchart-complete');\n",
              "    }\n",
              "    (() => {\n",
              "      let quickchartButtonEl =\n",
              "        document.querySelector('#df-2910ab13-36b7-4e64-9390-18f9f03c23a2 button');\n",
              "      quickchartButtonEl.style.display =\n",
              "        google.colab.kernel.accessAllowed ? 'block' : 'none';\n",
              "    })();\n",
              "  </script>\n",
              "</div>\n",
              "    </div>\n",
              "  </div>\n"
            ]
          },
          "metadata": {},
          "execution_count": 26
        }
      ]
    },
    {
      "cell_type": "code",
      "source": [
        "df_2 = df_2[['YearsExperience', 'Salary']]"
      ],
      "metadata": {
        "id": "FuzUTmL63pnt"
      },
      "execution_count": 27,
      "outputs": []
    },
    {
      "cell_type": "code",
      "source": [
        "df_2.info()"
      ],
      "metadata": {
        "id": "4SPx5ic34GVp",
        "colab": {
          "base_uri": "https://localhost:8080/"
        },
        "outputId": "4fe34f11-3fc1-46bd-ed07-5bed943ebff4"
      },
      "execution_count": 28,
      "outputs": [
        {
          "output_type": "stream",
          "name": "stdout",
          "text": [
            "<class 'pandas.core.frame.DataFrame'>\n",
            "RangeIndex: 30 entries, 0 to 29\n",
            "Data columns (total 2 columns):\n",
            " #   Column           Non-Null Count  Dtype  \n",
            "---  ------           --------------  -----  \n",
            " 0   YearsExperience  30 non-null     float64\n",
            " 1   Salary           30 non-null     float64\n",
            "dtypes: float64(2)\n",
            "memory usage: 608.0 bytes\n"
          ]
        }
      ]
    },
    {
      "cell_type": "code",
      "source": [
        "df_2.shape"
      ],
      "metadata": {
        "id": "ewTs-MEC4Iic",
        "colab": {
          "base_uri": "https://localhost:8080/"
        },
        "outputId": "f0029fe8-80f8-4099-fd66-92dd6ea653b6"
      },
      "execution_count": 29,
      "outputs": [
        {
          "output_type": "execute_result",
          "data": {
            "text/plain": [
              "(30, 2)"
            ]
          },
          "metadata": {},
          "execution_count": 29
        }
      ]
    },
    {
      "cell_type": "markdown",
      "source": [
        "### **Scaling the data**"
      ],
      "metadata": {
        "id": "XYejPSW43ff7"
      }
    },
    {
      "cell_type": "code",
      "source": [
        "# Using sklearn\n",
        "from sklearn.preprocessing import MinMaxScaler\n",
        "\n",
        "scaler = MinMaxScaler()\n",
        "data_scaled = scaler.fit_transform(df_2)\n",
        "data_s = pd.DataFrame(data_scaled, columns=df_2.columns)"
      ],
      "metadata": {
        "id": "il8WTMot3XCb"
      },
      "execution_count": 30,
      "outputs": []
    },
    {
      "cell_type": "code",
      "source": [
        "# Visualizing by first defining a function for our data\n",
        "w = 1\n",
        "def nn(x, w):\n",
        "    return x * w"
      ],
      "metadata": {
        "id": "94MIUv48493E"
      },
      "execution_count": 31,
      "outputs": []
    },
    {
      "cell_type": "code",
      "source": [
        "# Plotting our data\n",
        "def plot_data_and_prediction(data, f, w):\n",
        "    plt.figure(figsize=(8, 5))\n",
        "\n",
        "    # Plot the target vs input and the initial line\n",
        "    plt.plot(data_s.YearsExperience, data_s.Salary, 'o', label='$y_{true}$')\n",
        "    plt.plot([0, 1], [f(0, w), f(1, w)], 'b--', label='$y_{pred}$')\n",
        "\n",
        "    # Set labels, title, axis, and legend\n",
        "    plt.xlabel('$X$', fontsize=12)\n",
        "    plt.ylabel('$y$', fontsize=12)\n",
        "    plt.axis((0, 1, 0, 1))\n",
        "    plt.title('y-true vs y-pred')\n",
        "    plt.legend(loc=2)\n",
        "    plt.show()\n",
        "\n",
        "# Using the provided function to plot\n",
        "plot_data_and_prediction(data_s, nn, w)"
      ],
      "metadata": {
        "id": "LNhq0lz75A6p",
        "colab": {
          "base_uri": "https://localhost:8080/",
          "height": 491
        },
        "outputId": "c6e79383-a361-4154-a293-e73c690e4d52"
      },
      "execution_count": 32,
      "outputs": [
        {
          "output_type": "display_data",
          "data": {
            "text/plain": [
              "<Figure size 800x500 with 1 Axes>"
            ],
            "image/png": "[encoded data removed]"
          },
          "metadata": {}
        }
      ]
    },
    {
      "cell_type": "markdown",
      "source": [
        "### **Stochastic Gradient Descent example 1**\n",
        "\n",
        "---\n",
        "\n"
      ],
      "metadata": {
        "id": "WH1BtgcC4Yl3"
      }
    },
    {
      "cell_type": "code",
      "source": [
        "# Defining the parameters\n",
        "s1_x, s1_t = data_s['Salary'][0], data_s['YearsExperience'][0]\n",
        "w = 5\n",
        "learning_rate = 2\n",
        "\n",
        "# 1. Forward Pass\n",
        "s1_output = s1_x * w\n",
        "\n",
        "# 2. FeedForward Evaluation\n",
        "s1_loss_val = np.mean((s1_t - s1_output)**2)\n",
        "\n",
        "\n",
        "# 3. Backward Pass / Gradient Calculation\n",
        "s1_grad_value = np.mean(2 * s1_x * (s1_output - s1_t))\n",
        "s1_dw = learning_rate * s1_grad_value\n",
        "\n",
        "# 4. Back Propagation / Update Weights\n",
        "s1_w = w - s1_dw\n",
        "\n",
        "print(f\"Sample 1: Gradient = {s1_grad_value:.4f}, Δw = {s1_dw:.4f}, w: {s1_w:.4f}, loss: {s1_loss_val:.4f}\")"
      ],
      "metadata": {
        "id": "K-q5iWOI3hZI",
        "colab": {
          "base_uri": "https://localhost:8080/"
        },
        "outputId": "debddec8-0b0e-43a7-fc2b-f9cdd3b66d45"
      },
      "execution_count": 33,
      "outputs": [
        {
          "output_type": "stream",
          "name": "stdout",
          "text": [
            "Sample 1: Gradient = 0.0036, Δw = 0.0073, w: 4.9927, loss: 0.0091\n"
          ]
        }
      ]
    },
    {
      "cell_type": "markdown",
      "source": [
        "### **Stochastic Gradient Descent example 2**"
      ],
      "metadata": {
        "id": "V-Owyybe8c6S"
      }
    },
    {
      "cell_type": "code",
      "source": [
        "s2_x, s2_t = data_s['Salary'][1], data_s['YearsExperience'][1]\n",
        "w_2 = s1_w\n",
        "learning_rate = 2\n",
        "\n",
        "# 1. Forward Pass\n",
        "s2_output = s2_x * w_2\n",
        "\n",
        "# 2. FeedForward Evaluation\n",
        "s2_loss_val = np.mean((s2_t - s2_output)**2)\n",
        "\n",
        "\n",
        "# 3. Backward Pass / Gradient Calculation\n",
        "s2_grad_value = np.mean(2 * s2_x * (s2_output - s2_t))\n",
        "s2_dw = learning_rate * s2_grad_value\n",
        "\n",
        "# 4. Back Propagation / Update Weights\n",
        "s2_w = w - s2_dw\n",
        "\n",
        "print(f\"Sample 2: Gradient = {s2_grad_value:.4f}, Δw = {s2_dw:.4f}, w: {s2_w:.4f}, loss: {s2_loss_val:.4f}\")"
      ],
      "metadata": {
        "id": "gCMVRsaT4fbH",
        "colab": {
          "base_uri": "https://localhost:8080/"
        },
        "outputId": "44a7e5c1-de67-4257-89b0-941d46e51d51"
      },
      "execution_count": 34,
      "outputs": [
        {
          "output_type": "stream",
          "name": "stdout",
          "text": [
            "Sample 2: Gradient = 0.0958, Δw = 0.1916, w: 4.8084, loss: 0.2289\n"
          ]
        }
      ]
    },
    {
      "cell_type": "markdown",
      "source": [
        "## Using Hamids pipeline"
      ],
      "metadata": {
        "id": "VFGEdi928T2b"
      }
    },
    {
      "cell_type": "code",
      "source": [
        "# Initializing Hyperparameters\n",
        "epochs = 1\n",
        "learning_rate = 2\n",
        "\n",
        "# Initializing Parameters\n",
        "w = 5\n",
        "\n",
        "# 1. Creating a Neural Network\n",
        "# 1.1 Structure (Architecture) of NN\n",
        "def nn(x, w):\n",
        "    \"\"\"Output function y = x * w\"\"\"\n",
        "    return x * w\n",
        "\n",
        "# 1.2 Loss Function\n",
        "def loss(y, t):\n",
        "    \"\"\"Calculate the Mean Squared Error\"\"\"\n",
        "    return np.mean((t - y)**2)\n",
        "\n",
        "# 1.3 Optmization Approach\n",
        "def gradient(w, x, t):\n",
        "    \"\"\"Compute the gradient.\"\"\"\n",
        "    y = x * w\n",
        "    return np.mean(2 * x * (y - t))\n",
        "\n",
        "def delta_w(w_i, x, t, learning_rate):\n",
        "    \"\"\"Compute the weight update.\"\"\"\n",
        "    return learning_rate * gradient(w_i, x, t)\n",
        "\n",
        "w_his = []\n",
        "w_his.append(w)\n",
        "# Loop over the number of epochs\n",
        "for epoch in range(epochs):\n",
        "    total_loss = 0\n",
        "    for i in range(len(data_s['Salary'])):\n",
        "        x_i, t_i = data_s['Salary'][i], data_s['YearsExperience'][i]\n",
        "\n",
        "        # 2. Forward Pass\n",
        "        output = nn(x_i, w)\n",
        "\n",
        "        # 3. FeedForward Evaluation\n",
        "        loss_val = loss(output, t_i)\n",
        "\n",
        "        # 4. Backward Pass / Gradient Calculation\n",
        "        grad_value = gradient(w, x_i, t_i)  # Compute gradient\n",
        "        dw = delta_w(w, x_i, t_i, learning_rate)\n",
        "\n",
        "        # 5. Back Propagation / Update Weights\n",
        "        w = w - dw\n",
        "\n",
        "        w_his.append(w)\n",
        "\n",
        "        # Accumulate loss\n",
        "        total_loss += loss_val\n",
        "\n",
        "        # Print gradient, dw, weight, and loss values in a single line\n",
        "        print(f\"Epoch {epoch+1}, Sample {i+1}: Gradient = {grad_value:.4f}, Δw = {dw:.4f}, w: {w:.4f}, loss: {loss_val:.4f}\")\n",
        "\n",
        "    # Print average loss for the epoch\n",
        "    avg_loss = total_loss / len(data_s['Salary'])\n",
        "    print(f\"Epoch {epoch+1}: Average Loss = {avg_loss:.4f}\\n\")"
      ],
      "metadata": {
        "id": "OJYGGeU37jST",
        "colab": {
          "base_uri": "https://localhost:8080/"
        },
        "outputId": "1eeb04b8-c234-48d6-be6b-bf3398853db2"
      },
      "execution_count": 35,
      "outputs": [
        {
          "output_type": "stream",
          "name": "stdout",
          "text": [
            "Epoch 1, Sample 1: Gradient = 0.0036, Δw = 0.0073, w: 4.9927, loss: 0.0091\n",
            "Epoch 1, Sample 2: Gradient = 0.0958, Δw = 0.1916, w: 4.8012, loss: 0.2289\n",
            "Epoch 1, Sample 3: Gradient = 0.0000, Δw = 0.0000, w: 4.8012, loss: 0.0018\n",
            "Epoch 1, Sample 4: Gradient = 0.0319, Δw = 0.0637, w: 4.7374, loss: 0.0542\n",
            "Epoch 1, Sample 5: Gradient = 0.0002, Δw = 0.0004, w: 4.7370, loss: 0.0000\n",
            "Epoch 1, Sample 6: Gradient = 0.3872, Δw = 0.7744, w: 3.9627, loss: 0.7511\n",
            "Epoch 1, Sample 7: Gradient = 0.4487, Δw = 0.8974, w: 3.0653, loss: 0.7178\n",
            "Epoch 1, Sample 8: Gradient = 0.1507, Δw = 0.3015, w: 2.7638, loss: 0.1457\n",
            "Epoch 1, Sample 9: Gradient = 0.4094, Δw = 0.8188, w: 1.9450, loss: 0.4208\n",
            "Epoch 1, Sample 10: Gradient = 0.0783, Δw = 0.1567, w: 1.7883, loss: 0.0291\n",
            "Epoch 1, Sample 11: Gradient = 0.1448, Δw = 0.2896, w: 1.4987, loss: 0.0578\n",
            "Epoch 1, Sample 12: Gradient = 0.0048, Δw = 0.0096, w: 1.4891, loss: 0.0001\n",
            "Epoch 1, Sample 13: Gradient = 0.0135, Δw = 0.0269, w: 1.4622, loss: 0.0009\n",
            "Epoch 1, Sample 14: Gradient = 0.0069, Δw = 0.0138, w: 1.4484, loss: 0.0002\n",
            "Epoch 1, Sample 15: Gradient = 0.0212, Δw = 0.0423, w: 1.4061, loss: 0.0015\n",
            "Epoch 1, Sample 16: Gradient = 0.0695, Δw = 0.1391, w: 1.2670, loss: 0.0095\n",
            "Epoch 1, Sample 17: Gradient = -0.0014, Δw = -0.0027, w: 1.2697, loss: 0.0000\n",
            "Epoch 1, Sample 18: Gradient = 0.2501, Δw = 0.5003, w: 0.7694, loss: 0.0545\n",
            "Epoch 1, Sample 19: Gradient = -0.1176, Δw = -0.2352, w: 1.0046, loss: 0.0130\n",
            "Epoch 1, Sample 20: Gradient = 0.1935, Δw = 0.3870, w: 0.6176, loss: 0.0212\n",
            "Epoch 1, Sample 21: Gradient = -0.2710, Δw = -0.5420, w: 1.1596, loss: 0.0451\n",
            "Epoch 1, Sample 22: Gradient = 0.2731, Δw = 0.5462, w: 0.6134, loss: 0.0365\n",
            "Epoch 1, Sample 23: Gradient = -0.3947, Δw = -0.7894, w: 1.4028, loss: 0.0691\n",
            "Epoch 1, Sample 24: Gradient = 0.9082, Δw = 1.8164, w: -0.4136, loss: 0.2553\n",
            "Epoch 1, Sample 25: Gradient = -1.9628, Δw = -3.9256, w: 3.5120, loss: 1.3428\n",
            "Epoch 1, Sample 26: Gradient = 3.1646, Δw = 6.3292, w: -2.8172, loss: 3.8978\n",
            "Epoch 1, Sample 27: Gradient = -6.6085, Δw = -13.2170, w: 10.3999, loss: 12.4635\n",
            "Epoch 1, Sample 28: Gradient = 14.6820, Δw = 29.3641, w: -18.9642, loss: 68.8430\n",
            "Epoch 1, Sample 29: Gradient = -39.8859, Δw = -79.7718, w: 60.8075, loss: 397.7208\n",
            "Epoch 1, Sample 30: Gradient = 118.1408, Δw = 236.2816, w: -175.4741, loss: 3532.4914\n",
            "Epoch 1: Average Loss = 133.9894\n",
            "\n"
          ]
        }
      ]
    },
    {
      "cell_type": "markdown",
      "source": [
        "## **Attention Mechanism Exercise**"
      ],
      "metadata": {
        "id": "kP2FGy0j-NYp"
      }
    },
    {
      "cell_type": "markdown",
      "source": [
        "We choose to work with the sentences:\n",
        "*  He swung the bat, aiming for a homerun\n",
        "*  A bat flew quietly in the moonlit night"
      ],
      "metadata": {
        "id": "JpYPNNXG_USK"
      }
    },
    {
      "cell_type": "code",
      "source": [
        "import torch\n",
        "from transformers import BertTokenizer, BertModel\n",
        "\n",
        "tokenizer = BertTokenizer.from_pretrained('bert-base-uncased')\n",
        "model_1 = BertModel.from_pretrained('bert-base-uncased', output_attentions=True)\n",
        "\n",
        "# Encode text\n",
        "text_1 = \"He swung the bat aiming for the ball\"\n",
        "inputs_1 = tokenizer(text_1, return_tensors=\"pt\")\n",
        "\n",
        "# Get model output\n",
        "with torch.no_grad():\n",
        "    outputs = model_1(**inputs_1)\n",
        "\n",
        "# Extract attentions\n",
        "attentions_1 = outputs.attentions  # Tuple of 12 (one per layer) matrices of shape (batch_size, num_heads, sequence_length, sequence_length)\n",
        "\n",
        "# For simplicity, we'll use the attention weights from the first layer and the first head.\n",
        "attention_1 = attentions_1[0][0, 0, :, :].detach().numpy()\n",
        "\n",
        "# Tokenize the text to match tokens with attention weights\n",
        "tokens_1 = tokenizer.tokenize(tokenizer.decode(inputs_1['input_ids'][0]))"
      ],
      "metadata": {
        "id": "tvJhINZobNsn"
      },
      "execution_count": 36,
      "outputs": []
    },
    {
      "cell_type": "code",
      "source": [
        "# Encode text\n",
        "text_2 = \"A bat flew quietly in the dark night\"\n",
        "inputs_2 = tokenizer(text_2, return_tensors=\"pt\")\n",
        "\n",
        "# Get model output\n",
        "with torch.no_grad():\n",
        "    outputs = model_1(**inputs_2)\n",
        "\n",
        "# Extract attentions\n",
        "attentions_2 = outputs.attentions  # Tuple of 12 (one per layer) matrices of shape (batch_size, num_heads, sequence_length, sequence_length)\n",
        "\n",
        "# For simplicity, we'll use the attention weights from the first layer and the first head.\n",
        "attention_2 = attentions_2[0][0, 0, :, :].detach().numpy()\n",
        "\n",
        "# Tokenize the text to match tokens with attention weights\n",
        "tokens_2 = tokenizer.tokenize(tokenizer.decode(inputs_2['input_ids'][0]))"
      ],
      "metadata": {
        "id": "RZ_hqyYQdmAh"
      },
      "execution_count": 37,
      "outputs": []
    },
    {
      "cell_type": "code",
      "source": [
        "fig, axs = plt.subplots(1, 2, figsize=(20, 10))  # Create a figure with 1 row and 2 columns\n",
        "\n",
        "# Visualize attention_1\n",
        "cax1 = axs[0].matshow(attention_1, cmap='bone')\n",
        "fig.colorbar(cax1, ax=axs[0])\n",
        "axs[0].set_xticklabels([''] + tokens_1, rotation=90)\n",
        "axs[0].set_yticklabels([''] + tokens_1)\n",
        "axs[0].xaxis.set_major_locator(plt.MultipleLocator(1))\n",
        "axs[0].yaxis.set_major_locator(plt.MultipleLocator(1))\n",
        "axs[0].set_title('Attention 1')\n",
        "\n",
        "# Visualize attention_2\n",
        "cax2 = axs[1].matshow(attention_2, cmap='bone')\n",
        "fig.colorbar(cax2, ax=axs[1])\n",
        "axs[1].set_xticklabels([''] + tokens_2, rotation=90)\n",
        "axs[1].set_yticklabels([''] + tokens_2)\n",
        "axs[1].xaxis.set_major_locator(plt.MultipleLocator(1))\n",
        "axs[1].yaxis.set_major_locator(plt.MultipleLocator(1))\n",
        "axs[1].set_title('Attention 2')\n",
        "\n",
        "plt.tight_layout()\n",
        "plt.show()"
      ],
      "metadata": {
        "id": "F6etGw2vfG-d",
        "colab": {
          "base_uri": "https://localhost:8080/",
          "height": 1000
        },
        "outputId": "68f32fcc-aea7-453c-8cd1-f223624269d8"
      },
      "execution_count": 38,
      "outputs": [
        {
          "output_type": "stream",
          "name": "stderr",
          "text": [
            "<ipython-input-38-fed374817c3a>:6: UserWarning: FixedFormatter should only be used together with FixedLocator\n",
            "  axs[0].set_xticklabels([''] + tokens_1, rotation=90)\n",
            "<ipython-input-38-fed374817c3a>:7: UserWarning: FixedFormatter should only be used together with FixedLocator\n",
            "  axs[0].set_yticklabels([''] + tokens_1)\n",
            "<ipython-input-38-fed374817c3a>:15: UserWarning: FixedFormatter should only be used together with FixedLocator\n",
            "  axs[1].set_xticklabels([''] + tokens_2, rotation=90)\n",
            "<ipython-input-38-fed374817c3a>:16: UserWarning: FixedFormatter should only be used together with FixedLocator\n",
            "  axs[1].set_yticklabels([''] + tokens_2)\n"
          ]
        },
        {
          "output_type": "display_data",
          "data": {
            "text/plain": [
              "<Figure size 2000x1000 with 4 Axes>"
            ],
            "image/png": "[encoded data removed]"
          },
          "metadata": {}
        }
      ]
    }
  ]
}